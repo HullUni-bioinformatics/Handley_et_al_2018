{
 "cells": [
  {
   "cell_type": "markdown",
   "metadata": {},
   "source": [
    "The first step will be to __trim/clean our raw Illumina data__."
   ]
  },
  {
   "cell_type": "code",
   "execution_count": 1,
   "metadata": {
    "collapsed": true
   },
   "outputs": [],
   "source": [
    "!mkdir trimming"
   ]
  },
  {
   "cell_type": "code",
   "execution_count": 2,
   "metadata": {
    "collapsed": false
   },
   "outputs": [
    {
     "name": "stdout",
     "output_type": "stream",
     "text": [
      "/home/working/12S/trimming\n"
     ]
    }
   ],
   "source": [
    "cd trimming"
   ]
  },
  {
   "cell_type": "markdown",
   "metadata": {},
   "source": [
    "Prepare a text file specifying the samples to be processed including the format and location of the reads. \n",
    "\n",
    "The below command expects the Illumina data to be present in 2 fastq files (forward and reverse reads) per sample in a directory `../../raw_reads/`. It expects the files to be named 'sampleID-marker', followed by '\\_1' or '\\_2' to identify the forward/reverse read file respectively. sampleID must corresponds to the first column in the file `Sample_accessions.tsv`, marker is either '12S' or 'CytB'. \n",
    "\n",
    "\n",
    "The raw data need to be downloaded with `How_to_download_Rawdata_from_SRA.ipynb` (see [here](https://github.com/HullUni-bioinformatics/Handley_et_al_2018/blob/master/How_to_download_Rawdata_from_SRA.ipynb))\n",
    "\n",
    "SampleID must corresponds to the first column in the file `Sample_accessions.tsv` (see [here](https://github.com/HullUni-bioinformatics/Handley_et_al_2018/blob/master/supplementary_data/Sample_accessions.tsv))"
   ]
  },
  {
   "cell_type": "code",
   "execution_count": 3,
   "metadata": {
    "collapsed": false
   },
   "outputs": [],
   "source": [
    "%%bash\n",
    "\n",
    "for a in $(cat ../../supplementary_data/Sample_accessions.tsv | grep \"12S\" | cut -f 1 | grep \"SampleID\" -v)\n",
    "do\n",
    "    R1=$(ls -1 ../../raw_reads/$a-12S_* | grep \"_R1.fastq\")\n",
    "    R2=$(ls -1 ../../raw_reads/$a-12S_* | grep \"_R2.fastq\")\n",
    "\n",
    "    echo -e \"$a\\tfastq\\t$R1\\t$R2\"\n",
    "done > Querymap.txt"
   ]
  },
  {
   "cell_type": "markdown",
   "metadata": {},
   "source": [
    "The resulting file should look e.g. like below:"
   ]
  },
  {
   "cell_type": "code",
   "execution_count": 4,
   "metadata": {
    "collapsed": false,
    "scrolled": true
   },
   "outputs": [
    {
     "name": "stdout",
     "output_type": "stream",
     "text": [
      "WOF01_summer\tfastq\t../../raw_reads/WOF01_summer-12S_R1.fastq.gz\t../../raw_reads/WOF01_summer-12S_R2.fastq.gz\r\n",
      "WOF02_summer\tfastq\t../../raw_reads/WOF02_summer-12S_R1.fastq.gz\t../../raw_reads/WOF02_summer-12S_R2.fastq.gz\r\n",
      "WOF03_summer\tfastq\t../../raw_reads/WOF03_summer-12S_R1.fastq.gz\t../../raw_reads/WOF03_summer-12S_R2.fastq.gz\r\n",
      "WOF04_summer\tfastq\t../../raw_reads/WOF04_summer-12S_R1.fastq.gz\t../../raw_reads/WOF04_summer-12S_R2.fastq.gz\r\n",
      "WOF05_summer\tfastq\t../../raw_reads/WOF05_summer-12S_R1.fastq.gz\t../../raw_reads/WOF05_summer-12S_R2.fastq.gz\r\n",
      "WOF06_summer\tfastq\t../../raw_reads/WOF06_summer-12S_R1.fastq.gz\t../../raw_reads/WOF06_summer-12S_R2.fastq.gz\r\n",
      "WOF07_summer\tfastq\t../../raw_reads/WOF07_summer-12S_R1.fastq.gz\t../../raw_reads/WOF07_summer-12S_R2.fastq.gz\r\n",
      "WOF08_summer\tfastq\t../../raw_reads/WOF08_summer-12S_R1.fastq.gz\t../../raw_reads/WOF08_summer-12S_R2.fastq.gz\r\n"
     ]
    }
   ],
   "source": [
    "!head -8 Querymap.txt"
   ]
  },
  {
   "cell_type": "markdown",
   "metadata": {},
   "source": [
    "The 12S amplicon sequenced here is only 106 bp long. Readlength used in the MiSeq run was 2x300bp. Our reads are thus longer than our amplicon and we so expect to find primer/adapter sequences in our reads that need to be removed as part of the raw data processing. \n",
    "\n",
    "Specifically, forward reads are expected to contain the reverse complement of the reverse primer plus the reverse Illumina adapter (FA501-FA508; FB501-FB508), and reverse reads will contain reverse complements of the forward primers and adapters (RA701-RA712;RB701-RB712).\n",
    "\n",
    "The expected sequences have been produced from `12S-adapters.fasta` (see [here](https://github.com/HullUni-bioinformatics/Handley_et_al_2018/blob/master/supplementary_data/12S-adapters.fasta)) into reverse complements `12S-adapters_rc.fasta` and will be used in the trimming algorithm."
   ]
  },
  {
   "cell_type": "code",
   "execution_count": 5,
   "metadata": {
    "collapsed": false
   },
   "outputs": [
    {
     "name": "stdout",
     "output_type": "stream",
     "text": [
      ">FA501\r",
      "\r\n",
      "AATGATACGGCGACCACCGAGATCTACACATCGTACGTATGGTAATTGGACTGGGATTAGATACCCC\r",
      "\r\n",
      ">FA502\r",
      "\r\n",
      "AATGATACGGCGACCACCGAGATCTACACACTATCTGTATGGTAATTGGACTGGGATTAGATACCCC\r",
      "\r\n",
      ">FA503\r",
      "\r\n",
      "AATGATACGGCGACCACCGAGATCTACACTAGCGAGTTATGGTAATTGGACTGGGATTAGATACCCC\r",
      "\r\n",
      ">FA504\r",
      "\r\n",
      "AATGATACGGCGACCACCGAGATCTACACCTGCGTGTTATGGTAATTGGACTGGGATTAGATACCCC\r",
      "\r\n",
      ">FA505\r",
      "\r\n",
      "AATGATACGGCGACCACCGAGATCTACACTCATCGAGTATGGTAATTGGACTGGGATTAGATACCCC\r",
      "\r\n"
     ]
    }
   ],
   "source": [
    "!head ../12S-adapters.fasta"
   ]
  },
  {
   "cell_type": "code",
   "execution_count": 6,
   "metadata": {
    "collapsed": false,
    "scrolled": true
   },
   "outputs": [
    {
     "name": "stdout",
     "output_type": "stream",
     "text": [
      "FA501_rc\n",
      "GGGGTATCTAATCCCAGTCCAATTACCATACGTACGATGTGTAGATCTCGGTGGTCGCCGTATCATT\n",
      "FA502_rc\n",
      "GGGGTATCTAATCCCAGTCCAATTACCATACAGATAGTGTGTAGATCTCGGTGGTCGCCGTATCATT\n",
      "FA503_rc\n",
      "GGGGTATCTAATCCCAGTCCAATTACCATAACTCGCTAGTGTAGATCTCGGTGGTCGCCGTATCATT\n",
      "FA504_rc\n",
      "GGGGTATCTAATCCCAGTCCAATTACCATAACACGCAGGTGTAGATCTCGGTGGTCGCCGTATCATT\n",
      "FA505_rc\n",
      "GGGGTATCTAATCCCAGTCCAATTACCATACTCGATGAGTGTAGATCTCGGTGGTCGCCGTATCATT\n",
      "FA506_rc\n",
      "GGGGTATCTAATCCCAGTCCAATTACCATACACTCACGGTGTAGATCTCGGTGGTCGCCGTATCATT\n",
      "FA507_rc\n",
      "GGGGTATCTAATCCCAGTCCAATTACCATAAGATATCCGTGTAGATCTCGGTGGTCGCCGTATCATT\n",
      "FA508_rc\n",
      "GGGGTATCTAATCCCAGTCCAATTACCATAACGGTGTCGTGTAGATCTCGGTGGTCGCCGTATCATT\n",
      "FB501_rc\n",
      "GGGGTATCTAATCCCAGTCCAATTACCATATATAGTAGGTGTAGATCTCGGTGGTCGCCGTATCATT\n",
      "FB502_rc\n",
      "GGGGTATCTAATCCCAGTCCAATTACCATATAGTAACGGTGTAGATCTCGGTGGTCGCCGTATCATT\n",
      "FB503_rc\n",
      "GGGGTATCTAATCCCAGTCCAATTACCATAGTGACTCTGTGTAGATCTCGGTGGTCGCCGTATCATT\n",
      "FB504_rc\n",
      "GGGGTATCTAATCCCAGTCCAATTACCATAGTCTCGTAGTGTAGATCTCGGTGGTCGCCGTATCATT\n",
      "FB505_rc\n",
      "GGGGTATCTAATCCCAGTCCAATTACCATACGAGACGTGTGTAGATCTCGGTGGTCGCCGTATCATT\n",
      "FB506_rc\n",
      "GGGGTATCTAATCCCAGTCCAATTACCATACTCGTCGAGTGTAGATCTCGGTGGTCGCCGTATCATT\n",
      "FB507_rc\n",
      "GGGGTATCTAATCCCAGTCCAATTACCATAACACGATCGTGTAGATCTCGGTGGTCGCCGTATCATT\n",
      "FB508_rc\n",
      "GGGGTATCTAATCCCAGTCCAATTACCATATATCTGACGTGTAGATCTCGGTGGTCGCCGTATCATT\n",
      "RA701_rc\n",
      "CTAGAGGAGCCTGTTCTAGGCTGACTGACTCGAGAGTTATCTCGTATGCCGTCTTCTGCTTG\n",
      "RA702_rc\n",
      "CTAGAGGAGCCTGTTCTAGGCTGACTGACTGACATAGTATCTCGTATGCCGTCTTCTGCTTG\n",
      "RA703_rc\n",
      "CTAGAGGAGCCTGTTCTAGGCTGACTGACTACGCTACTATCTCGTATGCCGTCTTCTGCTTG\n",
      "RA704_rc\n",
      "CTAGAGGAGCCTGTTCTAGGCTGACTGACTACTCACTGATCTCGTATGCCGTCTTCTGCTTG\n",
      "RA705_rc\n",
      "CTAGAGGAGCCTGTTCTAGGCTGACTGACTTGAGTACGATCTCGTATGCCGTCTTCTGCTTG\n",
      "RA706_rc\n",
      "CTAGAGGAGCCTGTTCTAGGCTGACTGACTCTGCGTAGATCTCGTATGCCGTCTTCTGCTTG\n",
      "RA707_rc\n",
      "CTAGAGGAGCCTGTTCTAGGCTGACTGACTTAGTCTCCATCTCGTATGCCGTCTTCTGCTTG\n",
      "RA708_rc\n",
      "CTAGAGGAGCCTGTTCTAGGCTGACTGACTCGAGCGACATCTCGTATGCCGTCTTCTGCTTG\n",
      "RA709_rc\n",
      "CTAGAGGAGCCTGTTCTAGGCTGACTGACTACTACGACATCTCGTATGCCGTCTTCTGCTTG\n",
      "RA710_rc\n",
      "CTAGAGGAGCCTGTTCTAGGCTGACTGACTGTCTGCTAATCTCGTATGCCGTCTTCTGCTTG\n",
      "RA711_rc\n",
      "CTAGAGGAGCCTGTTCTAGGCTGACTGACTGTCTATGAATCTCGTATGCCGTCTTCTGCTTG\n",
      "RA712_rc\n",
      "CTAGAGGAGCCTGTTCTAGGCTGACTGACTTATAGCGAATCTCGTATGCCGTCTTCTGCTTG\n",
      "RB701_rc\n",
      "CTAGAGGAGCCTGTTCTAGGCTGACTGACTCTCGACTTATCTCGTATGCCGTCTTCTGCTTG\n",
      "RB702_rc\n",
      "CTAGAGGAGCCTGTTCTAGGCTGACTGACTCGAAGTATATCTCGTATGCCGTCTTCTGCTTG\n",
      "RB703_rc\n",
      "CTAGAGGAGCCTGTTCTAGGCTGACTGACTTAGCAGCTATCTCGTATGCCGTCTTCTGCTTG\n",
      "RB704_rc\n",
      "CTAGAGGAGCCTGTTCTAGGCTGACTGACTTCTCTATGATCTCGTATGCCGTCTTCTGCTTG\n",
      "RB705_rc\n",
      "CTAGAGGAGCCTGTTCTAGGCTGACTGACTGATCTACGATCTCGTATGCCGTCTTCTGCTTG\n",
      "RB706_rc\n",
      "CTAGAGGAGCCTGTTCTAGGCTGACTGACTGTAACGAGATCTCGTATGCCGTCTTCTGCTTG\n",
      "RB707_rc\n",
      "CTAGAGGAGCCTGTTCTAGGCTGACTGACTACGTGCGCATCTCGTATGCCGTCTTCTGCTTG\n",
      "RB708_rc\n",
      "CTAGAGGAGCCTGTTCTAGGCTGACTGACTATAGTACCATCTCGTATGCCGTCTTCTGCTTG\n",
      "RB709_rc\n",
      "CTAGAGGAGCCTGTTCTAGGCTGACTGACTGCGTATACATCTCGTATGCCGTCTTCTGCTTG\n",
      "RB710_rc\n",
      "CTAGAGGAGCCTGTTCTAGGCTGACTGACTTGCTCGTAATCTCGTATGCCGTCTTCTGCTTG\n",
      "RB711_rc\n",
      "CTAGAGGAGCCTGTTCTAGGCTGACTGACTAACGCTGAATCTCGTATGCCGTCTTCTGCTTG\n",
      "RB712_rc\n",
      "CTAGAGGAGCCTGTTCTAGGCTGACTGACTCGTAGCGAATCTCGTATGCCGTCTTCTGCTTG\n"
     ]
    },
    {
     "data": {
      "text/plain": [
       "40"
      ]
     },
     "execution_count": 6,
     "metadata": {},
     "output_type": "execute_result"
    }
   ],
   "source": [
    "from Bio import SeqIO\n",
    "from Bio.SeqRecord import SeqRecord\n",
    "for record in SeqIO.parse(\"../12S-adapters.fasta\", \"fasta\"):\n",
    "    print record.id + \"_rc\"\n",
    "    print record.seq.reverse_complement()\n",
    "\n",
    "def make_rc_record(record):\n",
    "    \"\"\"Returns a new SeqRecord with the reverse complement sequence.\"\"\"\n",
    "    return SeqRecord(seq = record.seq.reverse_complement(), \\\n",
    "                 id = record.id + \"_rc\", \\\n",
    "                 description = \"reverse complement\")\n",
    "\n",
    "records = map(make_rc_record, SeqIO.parse(\"../12S-adapters.fasta\", \"fasta\"))\n",
    "SeqIO.write(records, \"../12S-adapters_rc.fasta\", \"fasta\")"
   ]
  },
  {
   "cell_type": "code",
   "execution_count": 7,
   "metadata": {
    "collapsed": false
   },
   "outputs": [
    {
     "name": "stdout",
     "output_type": "stream",
     "text": [
      ">FA501_rc reverse complement\r\n",
      "GGGGTATCTAATCCCAGTCCAATTACCATACGTACGATGTGTAGATCTCGGTGGTCGCCG\r\n",
      "TATCATT\r\n",
      ">FA502_rc reverse complement\r\n",
      "GGGGTATCTAATCCCAGTCCAATTACCATACAGATAGTGTGTAGATCTCGGTGGTCGCCG\r\n",
      "TATCATT\r\n",
      ">FA503_rc reverse complement\r\n",
      "GGGGTATCTAATCCCAGTCCAATTACCATAACTCGCTAGTGTAGATCTCGGTGGTCGCCG\r\n",
      "TATCATT\r\n",
      ">FA504_rc reverse complement\r\n"
     ]
    }
   ],
   "source": [
    "!head -10 ../12S-adapters_rc.fasta"
   ]
  },
  {
   "cell_type": "markdown",
   "metadata": {},
   "source": [
    "__Raw data trimming, removal of adapter sequences and merging of reads__ using the `metaBEAT` pipeline."
   ]
  },
  {
   "cell_type": "code",
   "execution_count": null,
   "metadata": {
    "collapsed": false
   },
   "outputs": [],
   "source": [
    "%%bash\n",
    "\n",
    "metaBEAT_global.py \\\n",
    "-Q Querymap.txt \\\n",
    "--trim_qual 30 \\\n",
    "--trim_adapter ../12S-adapters_rc.fasta \\\n",
    "--trim_minlength 90 \\\n",
    "--merge \\\n",
    "--product_length 110 \\\n",
    "--forward_only \\\n",
    "--read_crop 106 \\\n",
    "-@ haikuilee@gmail.com \\\n",
    "-n 5 -v &> log"
   ]
  },
  {
   "cell_type": "code",
   "execution_count": 8,
   "metadata": {
    "collapsed": false
   },
   "outputs": [
    {
     "name": "stdout",
     "output_type": "stream",
     "text": [
      "/home/working/12S\n"
     ]
    }
   ],
   "source": [
    "cd ../"
   ]
  },
  {
   "cell_type": "markdown",
   "metadata": {},
   "source": [
    "Some stats on the read counts before/after trimming, merging etc. are summarized for you in `metaBEAT_read_stats.csv`."
   ]
  },
  {
   "cell_type": "markdown",
   "metadata": {},
   "source": [
    "Next stage of the processing is __chimera detection__ and removal of putative chimeric sequences. We'll do that using `uchime` as implemented in `vsearch`."
   ]
  },
  {
   "cell_type": "code",
   "execution_count": 9,
   "metadata": {
    "collapsed": true
   },
   "outputs": [],
   "source": [
    "!mkdir chimera_detection"
   ]
  },
  {
   "cell_type": "code",
   "execution_count": 10,
   "metadata": {
    "collapsed": false
   },
   "outputs": [
    {
     "name": "stdout",
     "output_type": "stream",
     "text": [
      "/home/working/12S/chimera_detection\n"
     ]
    }
   ],
   "source": [
    "cd chimera_detection"
   ]
  },
  {
   "cell_type": "markdown",
   "metadata": {},
   "source": [
    "Convert reference database from Genbank to fasta format to be used in chimera detection.\n",
    "\n",
    "Prepare Refmap file, i.e. text file that specifies the location and the format of the reference to be used.\n",
    "\n",
    "The reference sequences in Genbank format should already be present in the `supplementary_data` directory: `12S_Fish_SATIVA_cleaned_May_2017.gb`."
   ]
  },
  {
   "cell_type": "code",
   "execution_count": 11,
   "metadata": {
    "collapsed": false
   },
   "outputs": [],
   "source": [
    "%%bash\n",
    "\n",
    "#Write REFmap\n",
    "for file in $(ls -1 ../../supplementary_data/reference_DBs/* | grep \"12S_Fish_SATIVA_cleaned_May_2017.gb$\")\n",
    "do\n",
    "      echo -e \"$file\\tgb\"\n",
    "done > REFmap.txt\n",
    "\n"
   ]
  },
  {
   "cell_type": "code",
   "execution_count": 12,
   "metadata": {
    "collapsed": false
   },
   "outputs": [
    {
     "name": "stdout",
     "output_type": "stream",
     "text": [
      "../../supplementary_data/reference_DBs/12S_Fish_SATIVA_cleaned_May_2017.gb\tgb\r\n"
     ]
    }
   ],
   "source": [
    "!cat REFmap.txt"
   ]
  },
  {
   "cell_type": "code",
   "execution_count": null,
   "metadata": {
    "collapsed": true
   },
   "outputs": [],
   "source": [
    "%%bash\n",
    "\n",
    "metaBEAT_global.py \\\n",
    "-R REFmap.txt \\\n",
    "-f \\\n",
    "-@ haikuilee@gmail.com"
   ]
  },
  {
   "cell_type": "markdown",
   "metadata": {},
   "source": [
    "This will produce `refs.fasta`.\n",
    "\n",
    "Now run chimera detection."
   ]
  },
  {
   "cell_type": "code",
   "execution_count": null,
   "metadata": {
    "collapsed": false
   },
   "outputs": [],
   "source": [
    "%%bash\n",
    "\n",
    "\n",
    "for a in $(cut -f 1 ../trimming/Querymap.txt)\n",
    "do\n",
    "    if [ -s ../trimming/$a/$a\\_trimmed.fasta ]\n",
    "    then\n",
    "        echo -e \"\\n### Detecting chimeras in $a ###\\n\"\n",
    "        mkdir $a\n",
    "        cd $a\n",
    "        vsearch --uchime_ref ../../trimming/$a/$a\\_trimmed.fasta --db ../refs.fasta \\\n",
    "        --nonchimeras $a-nonchimeras.fasta --chimeras $a-chimeras.fasta &> log\n",
    "        cd ..\n",
    "\n",
    "    else\n",
    "        echo -e \"$a is empty\"\n",
    "    fi\n",
    "done\n",
    "\n",
    "\n"
   ]
  },
  {
   "cell_type": "code",
   "execution_count": 16,
   "metadata": {
    "collapsed": false
   },
   "outputs": [
    {
     "name": "stdout",
     "output_type": "stream",
     "text": [
      "/home/working/12S\n"
     ]
    }
   ],
   "source": [
    "cd .."
   ]
  },
  {
   "cell_type": "markdown",
   "metadata": {},
   "source": [
    "Last step is __taxonomic assignment of reads based on a BLAST - LCA approach__ using the metaBEAT pipeline."
   ]
  },
  {
   "cell_type": "code",
   "execution_count": 17,
   "metadata": {
    "collapsed": false
   },
   "outputs": [],
   "source": [
    "!mkdir non-chimeras"
   ]
  },
  {
   "cell_type": "code",
   "execution_count": 18,
   "metadata": {
    "collapsed": false
   },
   "outputs": [
    {
     "name": "stdout",
     "output_type": "stream",
     "text": [
      "/home/working/12S/non-chimeras\n"
     ]
    }
   ],
   "source": [
    "cd non-chimeras/"
   ]
  },
  {
   "cell_type": "markdown",
   "metadata": {},
   "source": [
    "Prepare Querymap and Refmap txt files."
   ]
  },
  {
   "cell_type": "code",
   "execution_count": 22,
   "metadata": {
    "collapsed": true
   },
   "outputs": [],
   "source": [
    "%%bash\n",
    "\n",
    "#Querymap\n",
    "for a in $(ls -l ../chimera_detection/ | grep \"^d\" | perl -ne 'chomp; @a=split(\" \"); print \"$a[-1]\\n\"')\n",
    "do\n",
    "   if [ \"$a\" != \"GLOBAL\" ]\n",
    "   then\n",
    "      echo -e \"$a-nc\\tfasta\\t../chimera_detection/$a/$a-nonchimeras.fasta\"\n",
    "   fi\n",
    "done > Querymap.txt\n",
    "\n",
    "#REFmap\n",
    "#Write REFmap\n",
    "\n",
    "\n",
    "#Write REFmap\n",
    "for file in $(ls -1 ../../supplementary_data/reference_DBs/* | grep \"12S_Fish_SATIVA_cleaned_May_2017.gb$\")\n",
    "do\n",
    "      echo -e \"$file\\tgb\"\n",
    "done > REFmap.txt\n",
    "\n",
    "for file in $(ls -1 ../../supplementary_data/reference_DBs/* | grep \"RhamphochromisEsox_mt.gb$\")\n",
    "do\n",
    "      echo -e \"$file\\tgb\"      \n",
    "      \n",
    "done >> REFmap.txt"
   ]
  },
  {
   "cell_type": "code",
   "execution_count": null,
   "metadata": {
    "collapsed": true
   },
   "outputs": [],
   "source": [
    "!head Querymap.txt"
   ]
  },
  {
   "cell_type": "code",
   "execution_count": 24,
   "metadata": {
    "collapsed": false
   },
   "outputs": [
    {
     "name": "stdout",
     "output_type": "stream",
     "text": [
      "../../supplementary_data/reference_DBs/12S_Fish_SATIVA_cleaned_May_2017.gb\tgb\r\n",
      "../../supplementary_data/reference_DBs/RhamphochromisEsox_mt.gb\tgb\r\n"
     ]
    }
   ],
   "source": [
    "!cat REFmap.txt"
   ]
  },
  {
   "cell_type": "markdown",
   "metadata": {},
   "source": [
    "__Sequence clustering and taxonomic assignment via metaBEAT__"
   ]
  },
  {
   "cell_type": "code",
   "execution_count": null,
   "metadata": {
    "collapsed": false
   },
   "outputs": [],
   "source": [
    "%%bash\n",
    "\n",
    "metaBEAT.py \\\n",
    "-Q Querymap.txt \\\n",
    "-R REFmap.txt \\\n",
    "--cluster --clust_match 1 --clust_cov 3 \\\n",
    "--blast --min_ident 1 \\\n",
    "-m 12S -n 5 \\\n",
    "-E -v \\\n",
    "-o 12S-trim_30-merged-nonchimeras-cluster_1c3-blast-min_ident_1.0 &> log"
   ]
  },
  {
   "cell_type": "markdown",
   "metadata": {},
   "source": [
    "__Results are under the `GLOBAL` folder__"
   ]
  },
  {
   "cell_type": "code",
   "execution_count": null,
   "metadata": {
    "collapsed": true
   },
   "outputs": [],
   "source": []
  }
 ],
 "metadata": {
  "kernelspec": {
   "display_name": "Python 2",
   "language": "python",
   "name": "python2"
  },
  "language_info": {
   "codemirror_mode": {
    "name": "ipython",
    "version": 2
   },
   "file_extension": ".py",
   "mimetype": "text/x-python",
   "name": "python",
   "nbconvert_exporter": "python",
   "pygments_lexer": "ipython2",
   "version": "2.7.6"
  }
 },
 "nbformat": 4,
 "nbformat_minor": 0
}
